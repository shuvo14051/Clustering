{
 "cells": [
  {
   "cell_type": "code",
   "execution_count": 10,
   "id": "b9da8e0a",
   "metadata": {},
   "outputs": [],
   "source": [
    "import pandas as pd\n",
    "import seaborn as sns\n",
    "import numpy as np\n",
    "import matplotlib.pyplot as plt\n",
    "import matplotlib as matplot\n",
    "import re\n",
    "import sklearn\n",
    "import warnings\n",
    "warnings.filterwarnings(\"ignore\")\n",
    "%matplotlib inline"
   ]
  },
  {
   "cell_type": "code",
   "execution_count": 11,
   "id": "4e04a8d6",
   "metadata": {},
   "outputs": [],
   "source": [
    "df1 = pd.read_csv('labs.csv')\n",
    "df2 = pd.read_csv('examination.csv')\n",
    "df3 = pd.read_csv('demographic.csv')\n",
    "df4 = pd.read_csv('diet.csv')\n",
    "df5 = pd.read_csv('questionnaire.csv')"
   ]
  },
  {
   "cell_type": "code",
   "execution_count": 14,
   "id": "5ff9e12b",
   "metadata": {},
   "outputs": [
    {
     "data": {
      "text/plain": [
       "0       73557\n",
       "1       73558\n",
       "2       73559\n",
       "3       73560\n",
       "4       73561\n",
       "        ...  \n",
       "9808    83727\n",
       "9809    83728\n",
       "9810    83729\n",
       "9811    83730\n",
       "9812    83731\n",
       "Name: SEQN, Length: 9813, dtype: int64"
      ]
     },
     "execution_count": 14,
     "metadata": {},
     "output_type": "execute_result"
    }
   ],
   "source": [
    "df2['SEQN']"
   ]
  },
  {
   "cell_type": "code",
   "execution_count": null,
   "id": "031f76b6",
   "metadata": {},
   "outputs": [],
   "source": []
  }
 ],
 "metadata": {
  "kernelspec": {
   "display_name": "Python 3 (ipykernel)",
   "language": "python",
   "name": "python3"
  },
  "language_info": {
   "codemirror_mode": {
    "name": "ipython",
    "version": 3
   },
   "file_extension": ".py",
   "mimetype": "text/x-python",
   "name": "python",
   "nbconvert_exporter": "python",
   "pygments_lexer": "ipython3",
   "version": "3.9.6"
  }
 },
 "nbformat": 4,
 "nbformat_minor": 5
}
